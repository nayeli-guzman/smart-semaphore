{
 "cells": [
  {
   "cell_type": "code",
   "execution_count": null,
   "metadata": {},
   "outputs": [],
   "source": [
    "pip install -r requirements.txt"
   ]
  },
  {
   "cell_type": "code",
   "execution_count": null,
   "metadata": {},
   "outputs": [],
   "source": [
    "from PIL import Image\n",
    "import cv2 \n",
    "import numpy as np\n"
   ]
  },
  {
   "cell_type": "code",
   "execution_count": 2,
   "metadata": {},
   "outputs": [],
   "source": [
    "v1 = './Cars.mp4'\n",
    "v2 = './traffic_1.mp4'\n",
    "cascade_source = './cars.xml'\n",
    "car_cascade = cv2.CascadeClassifier(cascade_source)"
   ]
  },
  {
   "cell_type": "code",
   "execution_count": null,
   "metadata": {},
   "outputs": [
    {
     "name": "stderr",
     "output_type": "stream",
     "text": [
      "2025-04-28 13:19:58.969 Python[41712:3850128] +[IMKClient subclass]: chose IMKClient_Modern\n",
      "2025-04-28 13:19:58.969 Python[41712:3850128] +[IMKInputSession subclass]: chose IMKInputSession_Modern\n"
     ]
    },
    {
     "ename": "",
     "evalue": "",
     "output_type": "error",
     "traceback": [
      "\u001b[1;31mThe Kernel crashed while executing code in the current cell or a previous cell. \n",
      "\u001b[1;31mPlease review the code in the cell(s) to identify a possible cause of the failure. \n",
      "\u001b[1;31mClick <a href='https://aka.ms/vscodeJupyterKernelCrash'>here</a> for more info. \n",
      "\u001b[1;31mView Jupyter <a href='command:jupyter.viewOutput'>log</a> for further details."
     ]
    }
   ],
   "source": [
    "def process_frame(frame):\n",
    "    gray   = cv2.cvtColor(frame, cv2.COLOR_BGR2GRAY)\n",
    "    blur   = cv2.GaussianBlur(gray, (5, 5), 0)\n",
    "    dil    = cv2.dilate(blur, np.ones((3,3)), iterations=1)\n",
    "    kernel = cv2.getStructuringElement(cv2.MORPH_ELLIPSE, (2, 2))\n",
    "    final  = cv2.morphologyEx(dil, cv2.MORPH_CLOSE, kernel)\n",
    "    cars   = car_cascade.detectMultiScale(final, 1.1, 1)\n",
    "    for (x, y, w, h) in cars:\n",
    "        cv2.rectangle(frame, (x, y), (x+w, y+h), (0,0,255), 2)\n",
    "    return frame, len(cars)\n",
    "\n",
    "def detect_two_videos(path1, path2):\n",
    "\n",
    "    cap1 = cv2.VideoCapture(path1)\n",
    "    cap2 = cv2.VideoCapture(path2)\n",
    "\n",
    "    if not cap1.isOpened() or not cap2.isOpened():\n",
    "        print(\"video is corrupted or not found\")\n",
    "        return\n",
    "\n",
    "    while True:\n",
    "        ret1, f1 = cap1.read()\n",
    "        ret2, f2 = cap2.read()\n",
    "\n",
    "        if not ret1 and not ret2:\n",
    "            break\n",
    "\n",
    "        if not ret1 and ret2:\n",
    "            f1 = np.zeros_like(f2)\n",
    "        if not ret2 and ret1:\n",
    "            f2 = np.zeros_like(f1)\n",
    "\n",
    "        out1, count1 = process_frame(f1)\n",
    "        out2, count2 = process_frame(f2)\n",
    "\n",
    "        combined = cv2.hconcat([out1, out2])\n",
    "\n",
    "\n",
    "        text = f\"V1: {count1} autos    V2: {count2} autos\"\n",
    "\n",
    "        cv2.rectangle(combined,\n",
    "                      (0, 0),\n",
    "                      (combined.shape[1], 30),\n",
    "                      (0, 0, 0),\n",
    "                      thickness=-1)\n",
    "        \n",
    "        cv2.putText(combined,\n",
    "                    text,\n",
    "                    (10, 20),\n",
    "                    cv2.FONT_HERSHEY_SIMPLEX,\n",
    "                    0.6,\n",
    "                    (0, 255, 0),\n",
    "                    2)\n",
    "\n",
    "\n",
    "        cv2.imshow('Videos Lado a Lado', combined)\n",
    "        if cv2.waitKey(1) & 0xFF == 27:  # ESC para salir\n",
    "            break\n",
    "\n",
    "    cap1.release()\n",
    "    cap2.release()\n",
    "    cv2.destroyAllWindows()\n",
    "\n",
    "if __name__ == \"__main__\":\n",
    "    detect_two_videos(v1, v2)\n"
   ]
  }
 ],
 "metadata": {
  "kernelspec": {
   "display_name": "venv",
   "language": "python",
   "name": "python3"
  },
  "language_info": {
   "codemirror_mode": {
    "name": "ipython",
    "version": 3
   },
   "file_extension": ".py",
   "mimetype": "text/x-python",
   "name": "python",
   "nbconvert_exporter": "python",
   "pygments_lexer": "ipython3",
   "version": "3.13.2"
  }
 },
 "nbformat": 4,
 "nbformat_minor": 2
}
