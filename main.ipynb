{
 "cells": [
  {
   "cell_type": "code",
   "execution_count": 1,
   "metadata": {},
   "outputs": [
    {
     "name": "stdout",
     "output_type": "stream",
     "text": [
      "Requirement already satisfied: ipykernel in ./venv/lib/python3.13/site-packages (from -r requirements.txt (line 1)) (6.29.5)\n",
      "Requirement already satisfied: opencv-python in ./venv/lib/python3.13/site-packages (from -r requirements.txt (line 2)) (4.11.0.86)\n",
      "Requirement already satisfied: pillow in ./venv/lib/python3.13/site-packages (from -r requirements.txt (line 3)) (11.2.1)\n",
      "Requirement already satisfied: numpy in ./venv/lib/python3.13/site-packages (from -r requirements.txt (line 4)) (2.2.5)\n",
      "Requirement already satisfied: appnope in ./venv/lib/python3.13/site-packages (from ipykernel->-r requirements.txt (line 1)) (0.1.4)\n",
      "Requirement already satisfied: comm>=0.1.1 in ./venv/lib/python3.13/site-packages (from ipykernel->-r requirements.txt (line 1)) (0.2.2)\n",
      "Requirement already satisfied: debugpy>=1.6.5 in ./venv/lib/python3.13/site-packages (from ipykernel->-r requirements.txt (line 1)) (1.8.14)\n",
      "Requirement already satisfied: ipython>=7.23.1 in ./venv/lib/python3.13/site-packages (from ipykernel->-r requirements.txt (line 1)) (9.2.0)\n",
      "Requirement already satisfied: jupyter-client>=6.1.12 in ./venv/lib/python3.13/site-packages (from ipykernel->-r requirements.txt (line 1)) (8.6.3)\n",
      "Requirement already satisfied: jupyter-core!=5.0.*,>=4.12 in ./venv/lib/python3.13/site-packages (from ipykernel->-r requirements.txt (line 1)) (5.7.2)\n",
      "Requirement already satisfied: matplotlib-inline>=0.1 in ./venv/lib/python3.13/site-packages (from ipykernel->-r requirements.txt (line 1)) (0.1.7)\n",
      "Requirement already satisfied: nest-asyncio in ./venv/lib/python3.13/site-packages (from ipykernel->-r requirements.txt (line 1)) (1.6.0)\n",
      "Requirement already satisfied: packaging in ./venv/lib/python3.13/site-packages (from ipykernel->-r requirements.txt (line 1)) (25.0)\n",
      "Requirement already satisfied: psutil in ./venv/lib/python3.13/site-packages (from ipykernel->-r requirements.txt (line 1)) (7.0.0)\n",
      "Requirement already satisfied: pyzmq>=24 in ./venv/lib/python3.13/site-packages (from ipykernel->-r requirements.txt (line 1)) (26.4.0)\n",
      "Requirement already satisfied: tornado>=6.1 in ./venv/lib/python3.13/site-packages (from ipykernel->-r requirements.txt (line 1)) (6.4.2)\n",
      "Requirement already satisfied: traitlets>=5.4.0 in ./venv/lib/python3.13/site-packages (from ipykernel->-r requirements.txt (line 1)) (5.14.3)\n",
      "Requirement already satisfied: decorator in ./venv/lib/python3.13/site-packages (from ipython>=7.23.1->ipykernel->-r requirements.txt (line 1)) (5.2.1)\n",
      "Requirement already satisfied: ipython-pygments-lexers in ./venv/lib/python3.13/site-packages (from ipython>=7.23.1->ipykernel->-r requirements.txt (line 1)) (1.1.1)\n",
      "Requirement already satisfied: jedi>=0.16 in ./venv/lib/python3.13/site-packages (from ipython>=7.23.1->ipykernel->-r requirements.txt (line 1)) (0.19.2)\n",
      "Requirement already satisfied: pexpect>4.3 in ./venv/lib/python3.13/site-packages (from ipython>=7.23.1->ipykernel->-r requirements.txt (line 1)) (4.9.0)\n",
      "Requirement already satisfied: prompt_toolkit<3.1.0,>=3.0.41 in ./venv/lib/python3.13/site-packages (from ipython>=7.23.1->ipykernel->-r requirements.txt (line 1)) (3.0.51)\n",
      "Requirement already satisfied: pygments>=2.4.0 in ./venv/lib/python3.13/site-packages (from ipython>=7.23.1->ipykernel->-r requirements.txt (line 1)) (2.19.1)\n",
      "Requirement already satisfied: stack_data in ./venv/lib/python3.13/site-packages (from ipython>=7.23.1->ipykernel->-r requirements.txt (line 1)) (0.6.3)\n",
      "Requirement already satisfied: python-dateutil>=2.8.2 in ./venv/lib/python3.13/site-packages (from jupyter-client>=6.1.12->ipykernel->-r requirements.txt (line 1)) (2.9.0.post0)\n",
      "Requirement already satisfied: platformdirs>=2.5 in ./venv/lib/python3.13/site-packages (from jupyter-core!=5.0.*,>=4.12->ipykernel->-r requirements.txt (line 1)) (4.3.7)\n",
      "Requirement already satisfied: parso<0.9.0,>=0.8.4 in ./venv/lib/python3.13/site-packages (from jedi>=0.16->ipython>=7.23.1->ipykernel->-r requirements.txt (line 1)) (0.8.4)\n",
      "Requirement already satisfied: ptyprocess>=0.5 in ./venv/lib/python3.13/site-packages (from pexpect>4.3->ipython>=7.23.1->ipykernel->-r requirements.txt (line 1)) (0.7.0)\n",
      "Requirement already satisfied: wcwidth in ./venv/lib/python3.13/site-packages (from prompt_toolkit<3.1.0,>=3.0.41->ipython>=7.23.1->ipykernel->-r requirements.txt (line 1)) (0.2.13)\n",
      "Requirement already satisfied: six>=1.5 in ./venv/lib/python3.13/site-packages (from python-dateutil>=2.8.2->jupyter-client>=6.1.12->ipykernel->-r requirements.txt (line 1)) (1.17.0)\n",
      "Requirement already satisfied: executing>=1.2.0 in ./venv/lib/python3.13/site-packages (from stack_data->ipython>=7.23.1->ipykernel->-r requirements.txt (line 1)) (2.2.0)\n",
      "Requirement already satisfied: asttokens>=2.1.0 in ./venv/lib/python3.13/site-packages (from stack_data->ipython>=7.23.1->ipykernel->-r requirements.txt (line 1)) (3.0.0)\n",
      "Requirement already satisfied: pure-eval in ./venv/lib/python3.13/site-packages (from stack_data->ipython>=7.23.1->ipykernel->-r requirements.txt (line 1)) (0.2.3)\n",
      "\n",
      "\u001b[1m[\u001b[0m\u001b[34;49mnotice\u001b[0m\u001b[1;39;49m]\u001b[0m\u001b[39;49m A new release of pip is available: \u001b[0m\u001b[31;49m25.0\u001b[0m\u001b[39;49m -> \u001b[0m\u001b[32;49m25.1\u001b[0m\n",
      "\u001b[1m[\u001b[0m\u001b[34;49mnotice\u001b[0m\u001b[1;39;49m]\u001b[0m\u001b[39;49m To update, run: \u001b[0m\u001b[32;49mpip install --upgrade pip\u001b[0m\n",
      "Note: you may need to restart the kernel to use updated packages.\n"
     ]
    }
   ],
   "source": [
    "pip install -r requirements.txt"
   ]
  },
  {
   "cell_type": "code",
   "execution_count": 2,
   "metadata": {},
   "outputs": [],
   "source": [
    "from PIL import Image\n",
    "import cv2 \n",
    "import numpy as np\n",
    "import time\n"
   ]
  },
  {
   "cell_type": "code",
   "execution_count": 3,
   "metadata": {},
   "outputs": [],
   "source": [
    "v1 = './videos/traffic_1.mp4'\n",
    "v2 = './videos/traffic_2.mp4'\n",
    "cascade_source = './cars.xml'\n",
    "car_cascade = cv2.CascadeClassifier(cascade_source)"
   ]
  },
  {
   "cell_type": "code",
   "execution_count": 4,
   "metadata": {},
   "outputs": [],
   "source": [
    "def process_frame(frame):\n",
    "    gray   = cv2.cvtColor(frame, cv2.COLOR_BGR2GRAY)\n",
    "    blur   = cv2.GaussianBlur(gray, (5, 5), 0)\n",
    "    dil    = cv2.dilate(blur, np.ones((3,3)), iterations=1)\n",
    "    kernel = cv2.getStructuringElement(cv2.MORPH_ELLIPSE, (2, 2))\n",
    "    final  = cv2.morphologyEx(dil, cv2.MORPH_CLOSE, kernel)\n",
    "    cars   = car_cascade.detectMultiScale(final, 1.1, 1)\n",
    "    for (x, y, w, h) in cars:\n",
    "        cv2.rectangle(frame, (x, y), (x+w, y+h), (0,0,255), 2)\n",
    "    return frame, len(cars)"
   ]
  },
  {
   "cell_type": "code",
   "execution_count": null,
   "metadata": {},
   "outputs": [
    {
     "name": "stderr",
     "output_type": "stream",
     "text": [
      "2025-04-28 13:36:09.919 Python[41928:3864551] +[IMKClient subclass]: chose IMKClient_Modern\n",
      "2025-04-28 13:36:09.919 Python[41928:3864551] +[IMKInputSession subclass]: chose IMKInputSession_Modern\n"
     ]
    },
    {
     "ename": "",
     "evalue": "",
     "output_type": "error",
     "traceback": [
      "\u001b[1;31mThe Kernel crashed while executing code in the current cell or a previous cell. \n",
      "\u001b[1;31mPlease review the code in the cell(s) to identify a possible cause of the failure. \n",
      "\u001b[1;31mClick <a href='https://aka.ms/vscodeJupyterKernelCrash'>here</a> for more info. \n",
      "\u001b[1;31mView Jupyter <a href='command:jupyter.viewOutput'>log</a> for further details."
     ]
    }
   ],
   "source": [
    "def detect_two_videos(path1, path2):\n",
    "\n",
    "    cap1 = cv2.VideoCapture(path1)\n",
    "    cap2 = cv2.VideoCapture(path2)\n",
    "\n",
    "    if not cap1.isOpened() or not cap2.isOpened():\n",
    "        print(\"video is corrupted or not found\")\n",
    "        return\n",
    "\n",
    "    while True:\n",
    "        ret1, f1 = cap1.read()\n",
    "        ret2, f2 = cap2.read()\n",
    "\n",
    "        if not ret1 and not ret2:\n",
    "            break\n",
    "\n",
    "        if not ret1 and ret2:\n",
    "            f1 = np.zeros_like(f2)\n",
    "        if not ret2 and ret1:\n",
    "            f2 = np.zeros_like(f1)\n",
    "\n",
    "        out1, count1 = process_frame(f1)\n",
    "        out2, count2 = process_frame(f2)\n",
    "\n",
    "        combined = cv2.hconcat([out1, out2])\n",
    "\n",
    "\n",
    "        text = f\"V1: {count1} autos    V2: {count2} autos\"\n",
    "\n",
    "        cv2.rectangle(combined,\n",
    "                      (0, 0),\n",
    "                      (combined.shape[1], 30),\n",
    "                      (0, 0, 0),\n",
    "                      thickness=-1)\n",
    "        \n",
    "        cv2.putText(combined,\n",
    "                    text,\n",
    "                    (10, 20),\n",
    "                    cv2.FONT_HERSHEY_SIMPLEX,\n",
    "                    0.6,\n",
    "                    (0, 255, 0),\n",
    "                    2)\n",
    "\n",
    "\n",
    "        cv2.imshow('Comparación de videos', combined)\n",
    "        if cv2.waitKey(1) & 0xFF == 27:  # ESC para salir\n",
    "            break\n",
    "\n",
    "    cap1.release()\n",
    "    cap2.release()\n",
    "    cv2.destroyAllWindows()\n",
    "\n",
    "if __name__ == \"__main__\":\n",
    "    detect_two_videos(v1, v2)\n"
   ]
  }
 ],
 "metadata": {
  "kernelspec": {
   "display_name": "venv",
   "language": "python",
   "name": "python3"
  },
  "language_info": {
   "codemirror_mode": {
    "name": "ipython",
    "version": 3
   },
   "file_extension": ".py",
   "mimetype": "text/x-python",
   "name": "python",
   "nbconvert_exporter": "python",
   "pygments_lexer": "ipython3",
   "version": "3.13.2"
  }
 },
 "nbformat": 4,
 "nbformat_minor": 2
}
